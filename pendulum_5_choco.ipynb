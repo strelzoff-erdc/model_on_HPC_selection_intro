{
 "cells": [
  {
   "cell_type": "code",
   "execution_count": 1,
   "metadata": {},
   "outputs": [
    {
     "name": "stderr",
     "output_type": "stream",
     "text": [
      "C:\\Users\\rditlas8\\AppData\\Local\\Continuum\\anaconda3\\envs\\vrsense1\\lib\\site-packages\\chocolate\\mo\\pyhv.py:16: ImportWarning: Using Python version of hypervolume module. Expect this to be slower.\n",
      "  warnings.warn(\"Using Python version of hypervolume module. Expect this to be slower.\", ImportWarning)\n"
     ]
    }
   ],
   "source": [
    "%matplotlib inline\n",
    "import matplotlib.pyplot as plt\n",
    "import numpy as np\n",
    "\n",
    "from sklearn.preprocessing import StandardScaler\n",
    "from sklearn.metrics import mean_squared_error\n",
    "from sklearn.model_selection import train_test_split\n",
    "\n",
    "from sklearn.neural_network import MLPRegressor\n",
    "\n",
    "import chocolate as choco\n"
   ]
  },
  {
   "cell_type": "code",
   "execution_count": 3,
   "metadata": {},
   "outputs": [
    {
     "name": "stdout",
     "output_type": "stream",
     "text": [
      "generated X frequency bins with shape = (1000, 500)\n",
      "generated Y (w1,w2,ratio_m1_over_m2) with shape = (1000, 10)\n"
     ]
    }
   ],
   "source": [
    "#load saved dataset rather than generating your own\n",
    "dataset3_X = np.loadtxt(\"dataset3_X.csv\",delimiter=',')\n",
    "dataset3_Y = np.loadtxt(\"dataset3_Y.csv\",delimiter=',')\n",
    "print(\"generated X frequency bins with shape =\",dataset3_X.shape)\n",
    "print(\"generated Y (w1,w2,ratio_m1_over_m2) with shape =\",dataset3_Y.shape)"
   ]
  },
  {
   "cell_type": "code",
   "execution_count": 20,
   "metadata": {},
   "outputs": [],
   "source": [
    "def build_MLPRegressor(params):    \n",
    "    return MLPRegressor(hidden_layer_sizes=(int(params['hidden_layer1']),\n",
    "                                           int(params['hidden_layer2']),\n",
    "                                           # int(params['hidden_layer3']),\n",
    "                                           ),\n",
    "                                       activation='relu',\n",
    "                                       solver='adam',\n",
    "                                       learning_rate='adaptive',\n",
    "                                       max_iter=int(params['max_iter']),\n",
    "                                       learning_rate_init=params['learning_rate_init'],\n",
    "                                       alpha=params['alpha'])\n",
    "\n",
    "def _score(X, Y, params):\n",
    "    #split\n",
    "    X_train, X_test, Y_train, Y_test = train_test_split(X, Y, test_size=0.10,shuffle=True)\n",
    "    \n",
    "    #scale\n",
    "    x_scaler_nl = StandardScaler()\n",
    "    X_train_scaled_nl = x_scaler_nl.fit_transform(X_train)\n",
    "    X_test_scaled_nl = x_scaler_nl.transform(X_test)\n",
    "\n",
    "    y_scaler_nl = StandardScaler().fit(Y_train)\n",
    "    Y_train_scaled_nl = y_scaler_nl.transform(Y_train)\n",
    "    Y_test_scaled_nl = y_scaler_nl.transform(Y_test)\n",
    "    \n",
    "    #create ML model\n",
    "    model = build_MLPRegressor(params)\n",
    "    \n",
    "    #train\n",
    "    model.fit(X_train_scaled_nl, Y_train_scaled_nl)\n",
    "    \n",
    "    #predict\n",
    "    Y_test_pred_scaled = model.predict(X_test_scaled_nl)\n",
    "    \n",
    "    #de-scale\n",
    "    Y_test_pred_unscaled = y_scaler_nl.inverse_transform(Y_test_pred_scaled)\n",
    "\n",
    "    # Chocolate minimizes the loss\n",
    "    return mean_squared_error(Y_test_pred_unscaled, Y_test)\n",
    "\n",
    "\n",
    "def main(X,Y,run):\n",
    "    #1.15\t2127\t0.009\t50\n",
    "    # Connect to sqlite database in current directory\n",
    "    conn = choco.SQLiteConnection(url=\"sqlite:///\"+run+\".db\")\n",
    "    s = {\n",
    "      \"hidden_layer1\": choco.quantized_uniform(2,300,10), \n",
    "      \"hidden_layer2\":  choco.quantized_uniform(2,300,1),\n",
    "      #\"hidden_layer3\":  choco.quantized_uniform(2,300,1), \n",
    "      \"learning_rate_init\": 0.005,#choco.quantized_uniform(0.005,0.005,0.0005),#choco.quantized_log(0,5,1,0.1), \n",
    "      \"alpha\": 1.0,#choco.quantized_uniform(1.0,1.0,0.1),#choco.quantized_log(0,5,1,0.1), \n",
    "      \"max_iter\": choco.quantized_uniform(50,500,50)\n",
    "    }\n",
    "    cv = choco.Repeat(repetitions=3, reduce=np.mean, rep_col=\"_repetition_id\")\n",
    "    sampler = choco.Bayes(conn, s,clear_db=False,crossvalidation=cv)\n",
    "    for i in range(0,10):\n",
    "        token, params = sampler.next()\n",
    "        loss = _score(X, Y, params)\n",
    "        #print(\"finished iteration\",str(i),\"loss\",str(loss))\n",
    "        sampler.update(token, loss)\n"
   ]
  },
  {
   "cell_type": "code",
   "execution_count": 5,
   "metadata": {},
   "outputs": [
    {
     "data": {
      "text/plain": [
       "[None,\n",
       " None,\n",
       " None,\n",
       " None,\n",
       " None,\n",
       " None,\n",
       " None,\n",
       " None,\n",
       " None,\n",
       " None,\n",
       " None,\n",
       " None,\n",
       " None,\n",
       " None,\n",
       " None,\n",
       " None]"
      ]
     },
     "execution_count": 5,
     "metadata": {},
     "output_type": "execute_result"
    }
   ],
   "source": [
    "from joblib import Parallel, delayed\n",
    "Parallel(n_jobs=16)(delayed(main)(dataset3_Y,dataset3_X,\"1layer_pend5_backwards_mlp_v1\") for i in range(16))"
   ]
  },
  {
   "cell_type": "code",
   "execution_count": 11,
   "metadata": {},
   "outputs": [
    {
     "data": {
      "text/plain": [
       "0.017546220489433557"
      ]
     },
     "execution_count": 11,
     "metadata": {},
     "output_type": "execute_result"
    }
   ],
   "source": [
    "dataset3_X.mean()"
   ]
  },
  {
   "cell_type": "code",
   "execution_count": 12,
   "metadata": {},
   "outputs": [
    {
     "data": {
      "text/plain": [
       "1.000705591427598"
      ]
     },
     "execution_count": 12,
     "metadata": {},
     "output_type": "execute_result"
    }
   ],
   "source": [
    "dataset3_Y.mean()"
   ]
  },
  {
   "cell_type": "code",
   "execution_count": 13,
   "metadata": {},
   "outputs": [
    {
     "data": {
      "text/plain": [
       "0.006383141034130233"
      ]
     },
     "execution_count": 13,
     "metadata": {},
     "output_type": "execute_result"
    }
   ],
   "source": [
    "0.000112/dataset3_X.mean()"
   ]
  },
  {
   "cell_type": "code",
   "execution_count": 21,
   "metadata": {},
   "outputs": [
    {
     "data": {
      "text/plain": [
       "[None,\n",
       " None,\n",
       " None,\n",
       " None,\n",
       " None,\n",
       " None,\n",
       " None,\n",
       " None,\n",
       " None,\n",
       " None,\n",
       " None,\n",
       " None,\n",
       " None,\n",
       " None,\n",
       " None,\n",
       " None]"
      ]
     },
     "execution_count": 21,
     "metadata": {},
     "output_type": "execute_result"
    }
   ],
   "source": [
    "from joblib import Parallel, delayed\n",
    "Parallel(n_jobs=16)(delayed(main)(dataset3_X,dataset3_Y,\"2layer_pend5_forwards_mlp_v1\") for i in range(16))"
   ]
  },
  {
   "cell_type": "code",
   "execution_count": null,
   "metadata": {},
   "outputs": [],
   "source": []
  }
 ],
 "metadata": {
  "kernelspec": {
   "display_name": "Python 3",
   "language": "python",
   "name": "python3"
  },
  "language_info": {
   "codemirror_mode": {
    "name": "ipython",
    "version": 3
   },
   "file_extension": ".py",
   "mimetype": "text/x-python",
   "name": "python",
   "nbconvert_exporter": "python",
   "pygments_lexer": "ipython3",
   "version": "3.6.7"
  }
 },
 "nbformat": 4,
 "nbformat_minor": 2
}
