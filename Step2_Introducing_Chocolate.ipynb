{
 "cells": [
  {
   "cell_type": "markdown",
   "metadata": {},
   "source": [
    "## Predicting Y-frequencies from X-frequencies of a double pendulum \n",
    "### XGBoost achieved 95% MSE but could we do better by tuning/searching hyper-parameters?"
   ]
  },
  {
   "cell_type": "code",
   "execution_count": 1,
   "metadata": {},
   "outputs": [],
   "source": [
    "%matplotlib inline\n",
    "import matplotlib.pyplot as plt\n",
    "import numpy as np\n",
    "\n",
    "from sklearn.preprocessing import StandardScaler\n",
    "from sklearn.metrics import mean_squared_error\n",
    "from sklearn.model_selection import train_test_split\n",
    "\n",
    "from sklearn.multioutput import MultiOutputRegressor\n",
    "\n",
    "from xgboost import XGBRegressor\n",
    "\n",
    "import chocolate as choco\n",
    "\n",
    "import pandas as pd\n",
    "\n",
    "from chocolate import SQLiteConnection"
   ]
  },
  {
   "cell_type": "code",
   "execution_count": 2,
   "metadata": {},
   "outputs": [
    {
     "name": "stdout",
     "output_type": "stream",
     "text": [
      "generated X frequency bins with shape = (1000, 200)\n"
     ]
    }
   ],
   "source": [
    "#load saved dataset rather than generating your own\n",
    "dataset_X_frequencies = np.loadtxt(\"dataset_X_frequencies.csv\",delimiter=',')\n",
    "dataset_Y_frequencies = np.loadtxt(\"dataset_Y_frequencies.csv\",delimiter=',')\n",
    "print(\"generated X frequency bins with shape =\",dataset_X_frequencies.shape)#print(\"generated Y (w1,w2,l1,l2) with shape =\",dataset_Y_frequencies.shape)"
   ]
  },
  {
   "cell_type": "code",
   "execution_count": 34,
   "metadata": {},
   "outputs": [],
   "source": [
    "#XGBoost is kinda slow - let's just look at the first 20 bins (0-1Hz)\n",
    "X_train, X_test, Y_train, Y_test = train_test_split(dataset_X_frequencies[:,100:120], dataset_Y_frequencies[:,100:120], test_size=0.10,random_state=42)\n",
    "\n",
    "#scale\n",
    "x_scaler_nl = StandardScaler()\n",
    "X_train_scaled_nl = x_scaler_nl.fit_transform(X_train)\n",
    "X_test_scaled_nl = x_scaler_nl.transform(X_test)\n",
    "\n",
    "y_scaler_nl = StandardScaler().fit(Y_train)\n",
    "Y_train_scaled_nl = y_scaler_nl.transform(Y_train)\n",
    "Y_test_scaled_nl = y_scaler_nl.transform(Y_test)"
   ]
  },
  {
   "cell_type": "code",
   "execution_count": 3,
   "metadata": {},
   "outputs": [],
   "source": [
    "#defin function to build a model with some hyper-parameters fixed and others free to change\n",
    "\n",
    "def build_XGBRegressor(params):   \n",
    "    return MultiOutputRegressor(XGBRegressor(n_estimators=int(params['n_estimators']),\n",
    "                                       learning_rate=params['learning_rate'],\n",
    "                                        gamma=0, \n",
    "                                        subsample=0.75,\n",
    "                                        colsample_bytree=1,\n",
    "                                        max_depth=int(params['max_depth'])\n",
    "                                        ))"
   ]
  },
  {
   "cell_type": "code",
   "execution_count": 4,
   "metadata": {},
   "outputs": [],
   "source": [
    "#build a function to create a model with arbitrary params, train, fit, test and return a score\n",
    "\n",
    "def _score(X_train, X_test, Y_train, Y_test, y_scaler_nl, params):\n",
    "    \n",
    "    #create ML model\n",
    "    model = build_XGBRegressor(params)\n",
    "    \n",
    "    #train\n",
    "    model.fit(X_train_scaled_nl, Y_train_scaled_nl)\n",
    "    \n",
    "    #predict\n",
    "    Y_test_pred_scaled = model.predict(X_test_scaled_nl)\n",
    "    \n",
    "    #de-scale\n",
    "    Y_test_pred_unscaled = y_scaler_nl.inverse_transform(Y_test_pred_scaled)\n",
    "\n",
    "    # Chocolate minimizes the loss\n",
    "    return mean_squared_error(Y_test_pred_unscaled, Y_test)"
   ]
  },
  {
   "cell_type": "code",
   "execution_count": 5,
   "metadata": {},
   "outputs": [],
   "source": [
    "def main(X_train, X_test, Y_train, Y_test, y_scaler_nl,run):\n",
    "\n",
    "    # CREATE and Connect to sqlite database in current directory\n",
    "    conn = choco.SQLiteConnection(url=\"sqlite:///\"+run+\".db\")\n",
    "    \n",
    "    #search space\n",
    "    space = {\n",
    "          \"n_estimators\":choco.quantized_uniform(50,500,50),\n",
    "          \"learning_rate\":choco.quantized_uniform(0.01,1.0,0.01),\n",
    "          \"max_depth\":choco.quantized_uniform(3,20,1)\n",
    "    }\n",
    "    \n",
    "    #repeat each model run three times and take average\n",
    "    cv = choco.Repeat(repetitions=3, reduce=np.mean, rep_col=\"_repetition_id\")\n",
    "    \n",
    "    #search strategy - Bayes attempts to \"learn\" patterns from ALL previous runs\n",
    "    sampler = choco.Bayes(conn, space, clear_db=True, crossvalidation=cv)\n",
    "    \n",
    "    #lets run 10 times and see what if we get a better answer\n",
    "    for i in range(0,10):\n",
    "        #examine db and pick next experiment\n",
    "        token, params = sampler.next()\n",
    "        #run experiment\n",
    "        loss = _score(X_train, X_test, Y_train, Y_test, y_scaler_nl, params)\n",
    "        #print(\"finished iteration\",str(i),\"loss\",str(loss))\n",
    "        #add new result to database\n",
    "        sampler.update(token, loss)"
   ]
  },
  {
   "cell_type": "code",
   "execution_count": 46,
   "metadata": {},
   "outputs": [],
   "source": [
    "main(X_train, X_test, Y_train, Y_test, y_scaler_nl,\"first_try_10_XGBoost\")"
   ]
  },
  {
   "cell_type": "code",
   "execution_count": 47,
   "metadata": {},
   "outputs": [
    {
     "data": {
      "text/html": [
       "<div>\n",
       "<style scoped>\n",
       "    .dataframe tbody tr th:only-of-type {\n",
       "        vertical-align: middle;\n",
       "    }\n",
       "\n",
       "    .dataframe tbody tr th {\n",
       "        vertical-align: top;\n",
       "    }\n",
       "\n",
       "    .dataframe thead th {\n",
       "        text-align: right;\n",
       "    }\n",
       "</style>\n",
       "<table border=\"1\" class=\"dataframe\">\n",
       "  <thead>\n",
       "    <tr style=\"text-align: right;\">\n",
       "      <th></th>\n",
       "      <th>_loss</th>\n",
       "      <th>learning_rate</th>\n",
       "      <th>max_depth</th>\n",
       "      <th>n_estimators</th>\n",
       "    </tr>\n",
       "    <tr>\n",
       "      <th>id</th>\n",
       "      <th></th>\n",
       "      <th></th>\n",
       "      <th></th>\n",
       "      <th></th>\n",
       "    </tr>\n",
       "  </thead>\n",
       "  <tbody>\n",
       "    <tr>\n",
       "      <th>1</th>\n",
       "      <td>0.000002</td>\n",
       "      <td>0.58</td>\n",
       "      <td>6</td>\n",
       "      <td>350</td>\n",
       "    </tr>\n",
       "    <tr>\n",
       "      <th>4</th>\n",
       "      <td>0.000006</td>\n",
       "      <td>0.17</td>\n",
       "      <td>15</td>\n",
       "      <td>100</td>\n",
       "    </tr>\n",
       "    <tr>\n",
       "      <th>7</th>\n",
       "      <td>0.000006</td>\n",
       "      <td>0.14</td>\n",
       "      <td>13</td>\n",
       "      <td>350</td>\n",
       "    </tr>\n",
       "    <tr>\n",
       "      <th>2</th>\n",
       "      <td>0.000006</td>\n",
       "      <td>0.05</td>\n",
       "      <td>6</td>\n",
       "      <td>100</td>\n",
       "    </tr>\n",
       "    <tr>\n",
       "      <th>5</th>\n",
       "      <td>0.000007</td>\n",
       "      <td>0.29</td>\n",
       "      <td>12</td>\n",
       "      <td>300</td>\n",
       "    </tr>\n",
       "    <tr>\n",
       "      <th>8</th>\n",
       "      <td>0.000008</td>\n",
       "      <td>0.44</td>\n",
       "      <td>16</td>\n",
       "      <td>450</td>\n",
       "    </tr>\n",
       "    <tr>\n",
       "      <th>10</th>\n",
       "      <td>0.000008</td>\n",
       "      <td>0.47</td>\n",
       "      <td>10</td>\n",
       "      <td>100</td>\n",
       "    </tr>\n",
       "    <tr>\n",
       "      <th>3</th>\n",
       "      <td>0.000011</td>\n",
       "      <td>0.79</td>\n",
       "      <td>18</td>\n",
       "      <td>250</td>\n",
       "    </tr>\n",
       "    <tr>\n",
       "      <th>6</th>\n",
       "      <td>0.000012</td>\n",
       "      <td>0.84</td>\n",
       "      <td>18</td>\n",
       "      <td>250</td>\n",
       "    </tr>\n",
       "    <tr>\n",
       "      <th>9</th>\n",
       "      <td>0.000014</td>\n",
       "      <td>0.95</td>\n",
       "      <td>6</td>\n",
       "      <td>50</td>\n",
       "    </tr>\n",
       "    <tr>\n",
       "      <th>0</th>\n",
       "      <td>NaN</td>\n",
       "      <td>0.59</td>\n",
       "      <td>10</td>\n",
       "      <td>150</td>\n",
       "    </tr>\n",
       "  </tbody>\n",
       "</table>\n",
       "</div>"
      ],
      "text/plain": [
       "       _loss  learning_rate  max_depth  n_estimators\n",
       "id                                                  \n",
       "1   0.000002           0.58          6           350\n",
       "4   0.000006           0.17         15           100\n",
       "7   0.000006           0.14         13           350\n",
       "2   0.000006           0.05          6           100\n",
       "5   0.000007           0.29         12           300\n",
       "8   0.000008           0.44         16           450\n",
       "10  0.000008           0.47         10           100\n",
       "3   0.000011           0.79         18           250\n",
       "6   0.000012           0.84         18           250\n",
       "9   0.000014           0.95          6            50\n",
       "0        NaN           0.59         10           150"
      ]
     },
     "execution_count": 47,
     "metadata": {},
     "output_type": "execute_result"
    }
   ],
   "source": [
    "conn = SQLiteConnection(\"sqlite:///first_try_10_XGBoost.db\")\n",
    "results = conn.results_as_dataframe()\n",
    "results.groupby(['id']).mean().sort_values(\"_loss\")"
   ]
  },
  {
   "cell_type": "code",
   "execution_count": 67,
   "metadata": {},
   "outputs": [],
   "source": [
    "best_params = {}\n",
    "loss,best_params['learning_rate'],best_params['max_depth'],best_params['n_estimators']= results.groupby(['id']).mean().sort_values(\"_loss\").iloc[0]"
   ]
  },
  {
   "cell_type": "code",
   "execution_count": 70,
   "metadata": {},
   "outputs": [
    {
     "data": {
      "text/plain": [
       "8.581231342712627e-06"
      ]
     },
     "execution_count": 70,
     "metadata": {},
     "output_type": "execute_result"
    }
   ],
   "source": [
    "best_xgboost = build_XGBRegressor(best_params)\n",
    "best_xgboost.fit(X_train_scaled_nl, Y_train_scaled_nl)\n",
    "Y_test_pred_scaled = best_xgboost.predict(X_test_scaled_nl)\n",
    "Y_test_pred_unscaled = y_scaler_nl.inverse_transform(Y_test_pred_scaled)\n",
    "mean_squared_error(Y_test_pred_unscaled, Y_test)"
   ]
  },
  {
   "cell_type": "code",
   "execution_count": 75,
   "metadata": {},
   "outputs": [
    {
     "data": {
      "image/png": "[encoded data removed]",
      "text/plain": [
       "<Figure size 432x288 with 1 Axes>"
      ]
     },
     "metadata": {
      "needs_background": "light"
     },
     "output_type": "display_data"
    }
   ],
   "source": [
    "#random_pick = 4 #bad one\n",
    "#random_pick = 5 #good one\n",
    "random_pick = 11 #good one\n",
    "\n",
    "\n",
    "sampling_rate = 10 #samples per time tic, higher=smoother, but will take longer\n",
    "\n",
    "T = 1/sampling_rate # inverse of the sampling rate\n",
    "frequencies = np.linspace(0.0, 1.0, 20)\n",
    "plt.plot(frequencies, Y_test_pred_unscaled[random_pick],label='predicted')\n",
    "plt.plot(frequencies, Y_test[random_pick],label='true')\n",
    "\n",
    "plt.legend(loc='upper right', shadow=True, fontsize='x-large')\n",
    "plt.xlabel('Frequency (Hz)')\n",
    "plt.ylabel('Vibration (g) - log scale')\n",
    "plt.yscale('log')\n",
    "plt.title('Predicted Y frequencies from X frequencies');"
   ]
  },
  {
   "cell_type": "markdown",
   "metadata": {},
   "source": [
    "## Supose we want to get all 40 frequency bins - that is going to be slow\n",
    "\n",
    "### So let's run training in parallel"
   ]
  },
  {
   "cell_type": "code",
   "execution_count": 5,
   "metadata": {},
   "outputs": [],
   "source": [
    "#XGBoost is kinda slow - but let's go ahead and get all 100 bins\n",
    "X_train, X_test, Y_train, Y_test = train_test_split(dataset_X_frequencies[:,100:140], dataset_Y_frequencies[:,100:140], test_size=0.10,random_state=42)\n",
    "\n",
    "#scale\n",
    "x_scaler_nl = StandardScaler()\n",
    "X_train_scaled_nl = x_scaler_nl.fit_transform(X_train)\n",
    "X_test_scaled_nl = x_scaler_nl.transform(X_test)\n",
    "\n",
    "y_scaler_nl = StandardScaler().fit(Y_train)\n",
    "Y_train_scaled_nl = y_scaler_nl.transform(Y_train)\n",
    "Y_test_scaled_nl = y_scaler_nl.transform(Y_test)"
   ]
  },
  {
   "cell_type": "code",
   "execution_count": 6,
   "metadata": {},
   "outputs": [],
   "source": [
    "def main(X_train, X_test, Y_train, Y_test, y_scaler_nl,run):\n",
    "\n",
    "    # CREATE and Connect to sqlite database in current directory\n",
    "    conn = choco.SQLiteConnection(url=\"sqlite:///\"+run+\".db\")\n",
    "    \n",
    "    #search space\n",
    "    space = {\n",
    "          \"n_estimators\":choco.quantized_uniform(50,500,50),\n",
    "          \"learning_rate\":choco.quantized_uniform(0.01,1.0,0.01),\n",
    "          \"max_depth\":choco.quantized_uniform(3,20,1)\n",
    "    }\n",
    "    \n",
    "    #repeat each model run three times and take average\n",
    "    cv = choco.Repeat(repetitions=3, reduce=np.mean, rep_col=\"_repetition_id\")\n",
    "    \n",
    "    #search strategy - Bayes attempts to \"learn\" patterns from ALL previous runs\n",
    "    sampler = choco.Bayes(conn, space, clear_db=True, crossvalidation=cv)\n",
    "    \n",
    "    #lets run 10 times and see what if we get a better answer\n",
    "    for i in range(0,3):  #<--- fewer inferences per core\n",
    "        #examine db and pick next experiment\n",
    "        token, params = sampler.next()\n",
    "        #run experiment\n",
    "        loss = _score(X_train, X_test, Y_train, Y_test, y_scaler_nl, params)\n",
    "        #print(\"finished iteration\",str(i),\"loss\",str(loss))\n",
    "        #add new result to database\n",
    "        sampler.update(token, loss)"
   ]
  },
  {
   "cell_type": "code",
   "execution_count": 7,
   "metadata": {},
   "outputs": [
    {
     "data": {
      "text/plain": [
       "[None, None, None, None, None, None]"
      ]
     },
     "execution_count": 7,
     "metadata": {},
     "output_type": "execute_result"
    }
   ],
   "source": [
    "from joblib import Parallel, delayed\n",
    "\n",
    "Parallel(n_jobs=6)(delayed(main)(X_train, X_test, Y_train, Y_test, y_scaler_nl,\"second_try_XGBoost\") for i in range(6))"
   ]
  },
  {
   "cell_type": "code",
   "execution_count": null,
   "metadata": {},
   "outputs": [],
   "source": []
  }
 ],
 "metadata": {
  "kernelspec": {
   "display_name": "Python 3",
   "language": "python",
   "name": "python3"
  },
  "language_info": {
   "codemirror_mode": {
    "name": "ipython",
    "version": 3
   },
   "file_extension": ".py",
   "mimetype": "text/x-python",
   "name": "python",
   "nbconvert_exporter": "python",
   "pygments_lexer": "ipython3",
   "version": "3.6.7"
  }
 },
 "nbformat": 4,
 "nbformat_minor": 2
}
